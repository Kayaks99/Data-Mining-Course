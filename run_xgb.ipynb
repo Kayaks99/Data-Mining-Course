{
 "cells": [
  {
   "cell_type": "code",
   "execution_count": 1,
   "metadata": {
    "uuid": "791458aa-147f-424c-881e-b4cb2371fb98"
   },
   "outputs": [],
   "source": [
    "import pandas as pd\n",
    "import numpy as np\n",
    "import warnings\n",
    "import os\n",
    "import seaborn as sns\n",
    "import matplotlib.pyplot as plt\n",
    "warnings.filterwarnings('ignore')"
   ]
  },
  {
   "cell_type": "code",
   "execution_count": 2,
   "metadata": {
    "uuid": "ec617675-ede6-4cf4-ade8-1bea8a51a659"
   },
   "outputs": [],
   "source": [
    "def reduce_mem_usage(df):\n",
    "    start_mem = df.memory_usage().sum() \n",
    "    print('Memory usage of dataframe is {:.2f} MB'.format(start_mem))\n",
    "    \n",
    "    for col in df.columns:\n",
    "        col_type = df[col].dtype\n",
    "        \n",
    "        if col_type != object:\n",
    "            c_min = df[col].min()\n",
    "            c_max = df[col].max()\n",
    "            if str(col_type)[:3] == 'int':\n",
    "                if c_min > np.iinfo(np.int8).min and c_max < np.iinfo(np.int8).max:\n",
    "                    df[col] = df[col].astype(np.int8)\n",
    "                elif c_min > np.iinfo(np.int16).min and c_max < np.iinfo(np.int16).max:\n",
    "                    df[col] = df[col].astype(np.int16)\n",
    "                elif c_min > np.iinfo(np.int32).min and c_max < np.iinfo(np.int32).max:\n",
    "                    df[col] = df[col].astype(np.int32)\n",
    "                elif c_min > np.iinfo(np.int64).min and c_max < np.iinfo(np.int64).max:\n",
    "                    df[col] = df[col].astype(np.int64)  \n",
    "            else:\n",
    "                if c_min > np.finfo(np.float16).min and c_max < np.finfo(np.float16).max:\n",
    "                    df[col] = df[col].astype(np.float16)\n",
    "                elif c_min > np.finfo(np.float32).min and c_max < np.finfo(np.float32).max:\n",
    "                    df[col] = df[col].astype(np.float32)\n",
    "                else:\n",
    "                    df[col] = df[col].astype(np.float64)\n",
    "        else:\n",
    "            df[col] = df[col].astype('category')\n",
    "\n",
    "    end_mem = df.memory_usage().sum() \n",
    "    print('Memory usage after optimization is: {:.2f} MB'.format(end_mem))\n",
    "    print('Decreased by {:.1f}%'.format(100 * (start_mem - end_mem) / start_mem))\n",
    "    \n",
    "    return df"
   ]
  },
  {
   "cell_type": "code",
   "execution_count": 3,
   "metadata": {
    "tags": [],
    "uuid": "d4a2de5e-2ef4-485d-bb99-455a9ac3595b"
   },
   "outputs": [
    {
     "name": "stdout",
     "output_type": "stream",
     "text": [
      "Memory usage of dataframe is 507151136.00 MB\n",
      "Memory usage after optimization is: 143042816.00 MB\n",
      "Decreased by 71.8%\n"
     ]
    }
   ],
   "source": [
    "# 读取数据\n",
    "data = pd.read_csv('./data/data_for_model.csv')\n",
    "y_train = pd.read_csv('./data/label_for_model.csv')\n",
    "# 通过调整数据类型，节省内存占用空间\n",
    "data = reduce_mem_usage(data)"
   ]
  },
  {
   "cell_type": "code",
   "execution_count": 4,
   "metadata": {
    "uuid": "7ce778f8-1a59-4b85-a167-faf5f971501e"
   },
   "outputs": [],
   "source": [
    "from sklearn.model_selection import KFold\n",
    "# 分离数据集，方便进行交叉验证\n",
    "X_train = data.loc[data['sample']=='train', :].drop('sample', axis=1)\n",
    "X_test = data.loc[data['sample']=='test', :].drop('sample', axis=1)\n",
    "# y_train = y_train['isDefault']\n",
    "\n",
    "# 5折交叉验证\n",
    "folds = 5\n",
    "seed = 2022\n",
    "kf = KFold(n_splits=folds, shuffle=True, random_state=seed)"
   ]
  },
  {
   "cell_type": "code",
   "execution_count": 5,
   "metadata": {},
   "outputs": [
    {
     "data": {
      "text/plain": [
       "(612742, 77)"
      ]
     },
     "execution_count": 5,
     "metadata": {},
     "output_type": "execute_result"
    }
   ],
   "source": [
    "X_train.shape"
   ]
  },
  {
   "cell_type": "code",
   "execution_count": 6,
   "metadata": {},
   "outputs": [],
   "source": [
    "\"\"\"对训练集数据进行划分，分成训练集和验证集，并进行相应的操作\"\"\"\n",
    "from sklearn.model_selection import train_test_split\n",
    "import xgboost as xgb\n",
    "# 数据集划分\n",
    "X_train_split, X_val, y_train_split, y_val = train_test_split(X_train, y_train, test_size=0.2, random_state=seed)\n",
    "# 数据封装\n",
    "dtrain = xgb.DMatrix(X_train_split, y_train_split)\n",
    "dvalid = xgb.DMatrix(X_val, y_val)"
   ]
  },
  {
   "cell_type": "code",
   "execution_count": 8,
   "metadata": {
    "tags": [],
    "uuid": "cfbc7926-d0c1-446d-a099-39c7549b5891"
   },
   "outputs": [
    {
     "name": "stdout",
     "output_type": "stream",
     "text": [
      "[0]\ttrain-auc:0.70567\tvalid-auc:0.70105\n",
      "[100]\ttrain-auc:0.74693\tvalid-auc:0.72638\n",
      "[200]\ttrain-auc:0.76328\tvalid-auc:0.72849\n",
      "[300]\ttrain-auc:0.77591\tvalid-auc:0.72840\n",
      "[400]\ttrain-auc:0.78647\tvalid-auc:0.72845\n",
      "[442]\ttrain-auc:0.79005\tvalid-auc:0.72832\n"
     ]
    }
   ],
   "source": [
    "# 设置参数\n",
    "params = {\n",
    "            'booster': 'gbtree',    # 指定弱学习器的类型，默认gbtree\n",
    "            'objective': 'binary:logistic',  # 学习目标：二元分类的逻辑回归，输出概率\n",
    "            'learning_rate': 0.1,   # eta\n",
    "            'eval_metric': 'auc',   # 验证数据的评估指标\n",
    "            'min_child_weight': 1e-3,  # 默认值= 1，如果新分裂的节点的样本权重和小于min_child_weight则停止分裂 。\n",
    "            'gamma': 0.1,       # 用于控制是否后剪枝的参数,越大越保守，一般0.1、0.2这样子。\n",
    "            'max_depth': 6,    # 默认= 6，一棵树的最大深度。\n",
    "            'reg_lambda': 0,   # 默认=1，L2正则化权重项。\n",
    "            'reg_alpha': 0,    # 默认= 0，权重的L1正则化项\n",
    "            'seed': 2022,      # 随机数种子\n",
    "            'nthread': 8,      # 用于运行XGBoost的并行线程数，默认为最大可用线程数\n",
    "            'verbosity': 0,    # 打印消息的详细程度。有效值为0（静默），1（警告），2（信息），3（调试）\n",
    "}\n",
    "\n",
    "\"\"\"使用训练集数据进行模型训练\"\"\"\n",
    "evallist = [(dtrain,\"train\"),(dvalid,\"valid\")]\n",
    "model = xgb.train(params, dtrain, num_boost_round=20000, evals=evallist, verbose_eval=100, early_stopping_rounds=200)"
   ]
  },
  {
   "cell_type": "code",
   "execution_count": 12,
   "metadata": {
    "tags": [],
    "uuid": "bd92ba52-9828-4488-9f3f-57946399072f"
   },
   "outputs": [
    {
     "name": "stdout",
     "output_type": "stream",
     "text": [
      "xgboost单模型在验证集上的AUC：0.7283171541841214\n"
     ]
    },
    {
     "data": {
      "image/png": "[encoded data removed]",
      "text/plain": [
       "<Figure size 576x576 with 1 Axes>"
      ]
     },
     "metadata": {
      "needs_background": "light"
     },
     "output_type": "display_data"
    }
   ],
   "source": [
    "from sklearn import metrics\n",
    "from sklearn.metrics import roc_auc_score\n",
    "\n",
    "\"\"\"预测并计算roc的相关指标\"\"\"\n",
    "val_pre_xgb = model.predict(dvalid)\n",
    "fpr, tpr, threshold = metrics.roc_curve(y_val, val_pre_xgb)\n",
    "roc_auc = metrics.auc(fpr, tpr)\n",
    "print('xgboost单模型在验证集上的AUC：{}'.format(roc_auc))\n",
    "\"\"\"画出roc曲线图\"\"\"\n",
    "plt.figure(figsize=(8, 8))\n",
    "plt.title('Validation ROC')\n",
    "plt.plot(fpr, tpr, 'b', label = 'Val AUC = %0.4f' % roc_auc)\n",
    "plt.ylim(0,1)\n",
    "plt.xlim(0,1)\n",
    "plt.legend(loc='best')\n",
    "plt.title('ROC')\n",
    "plt.ylabel('True Positive Rate')\n",
    "plt.xlabel('False Positive Rate')\n",
    "# 画出对角线\n",
    "plt.plot([0,1],[0,1],'r--')\n",
    "plt.show()"
   ]
  },
  {
   "cell_type": "code",
   "execution_count": 13,
   "metadata": {},
   "outputs": [],
   "source": [
    "\"\"\"保存模型到本地\"\"\"\n",
    "# 保存模型\n",
    "import pickle\n",
    "pickle.dump(model, open('./data/model_xgb_best.pkl', 'wb'))"
   ]
  },
  {
   "cell_type": "code",
   "execution_count": 35,
   "metadata": {},
   "outputs": [],
   "source": [
    "test_data = X_test.copy()\n",
    "test_data = test_data.fillna(0)\n",
    "test_data.replace([np.inf, -np.inf], 0, inplace=True)"
   ]
  },
  {
   "cell_type": "code",
   "execution_count": 36,
   "metadata": {},
   "outputs": [],
   "source": [
    "# 加载模型并获取测试结果\n",
    "import pickle\n",
    "dtest = xgb.DMatrix(test_data)\n",
    "with open('./data/model_xgb_best.pkl','rb') as f:\n",
    "    test_model = pickle.load(f)\n",
    "    y_test_pred = test_model.predict(dtest)"
   ]
  },
  {
   "cell_type": "code",
   "execution_count": 37,
   "metadata": {},
   "outputs": [],
   "source": [
    "id=np.arange(800000, 1000000)"
   ]
  },
  {
   "cell_type": "code",
   "execution_count": 38,
   "metadata": {},
   "outputs": [],
   "source": [
    "df = pd.DataFrame(zip(id, y_test_pred), columns=['id', 'isDefault'])"
   ]
  },
  {
   "cell_type": "code",
   "execution_count": 39,
   "metadata": {},
   "outputs": [
    {
     "data": {
      "text/html": [
       "<div>\n",
       "<style scoped>\n",
       "    .dataframe tbody tr th:only-of-type {\n",
       "        vertical-align: middle;\n",
       "    }\n",
       "\n",
       "    .dataframe tbody tr th {\n",
       "        vertical-align: top;\n",
       "    }\n",
       "\n",
       "    .dataframe thead th {\n",
       "        text-align: right;\n",
       "    }\n",
       "</style>\n",
       "<table border=\"1\" class=\"dataframe\">\n",
       "  <thead>\n",
       "    <tr style=\"text-align: right;\">\n",
       "      <th></th>\n",
       "      <th>id</th>\n",
       "      <th>isDefault</th>\n",
       "    </tr>\n",
       "  </thead>\n",
       "  <tbody>\n",
       "    <tr>\n",
       "      <th>0</th>\n",
       "      <td>800000</td>\n",
       "      <td>0.064854</td>\n",
       "    </tr>\n",
       "    <tr>\n",
       "      <th>1</th>\n",
       "      <td>800001</td>\n",
       "      <td>0.330316</td>\n",
       "    </tr>\n",
       "    <tr>\n",
       "      <th>2</th>\n",
       "      <td>800002</td>\n",
       "      <td>0.534374</td>\n",
       "    </tr>\n",
       "    <tr>\n",
       "      <th>3</th>\n",
       "      <td>800003</td>\n",
       "      <td>0.296969</td>\n",
       "    </tr>\n",
       "    <tr>\n",
       "      <th>4</th>\n",
       "      <td>800004</td>\n",
       "      <td>0.054087</td>\n",
       "    </tr>\n",
       "    <tr>\n",
       "      <th>...</th>\n",
       "      <td>...</td>\n",
       "      <td>...</td>\n",
       "    </tr>\n",
       "    <tr>\n",
       "      <th>199995</th>\n",
       "      <td>999995</td>\n",
       "      <td>0.141138</td>\n",
       "    </tr>\n",
       "    <tr>\n",
       "      <th>199996</th>\n",
       "      <td>999996</td>\n",
       "      <td>0.023009</td>\n",
       "    </tr>\n",
       "    <tr>\n",
       "      <th>199997</th>\n",
       "      <td>999997</td>\n",
       "      <td>0.159921</td>\n",
       "    </tr>\n",
       "    <tr>\n",
       "      <th>199998</th>\n",
       "      <td>999998</td>\n",
       "      <td>0.285454</td>\n",
       "    </tr>\n",
       "    <tr>\n",
       "      <th>199999</th>\n",
       "      <td>999999</td>\n",
       "      <td>0.016135</td>\n",
       "    </tr>\n",
       "  </tbody>\n",
       "</table>\n",
       "<p>200000 rows × 2 columns</p>\n",
       "</div>"
      ],
      "text/plain": [
       "            id  isDefault\n",
       "0       800000   0.064854\n",
       "1       800001   0.330316\n",
       "2       800002   0.534374\n",
       "3       800003   0.296969\n",
       "4       800004   0.054087\n",
       "...        ...        ...\n",
       "199995  999995   0.141138\n",
       "199996  999996   0.023009\n",
       "199997  999997   0.159921\n",
       "199998  999998   0.285454\n",
       "199999  999999   0.016135\n",
       "\n",
       "[200000 rows x 2 columns]"
      ]
     },
     "execution_count": 39,
     "metadata": {},
     "output_type": "execute_result"
    }
   ],
   "source": [
    "df"
   ]
  },
  {
   "cell_type": "code",
   "execution_count": 40,
   "metadata": {},
   "outputs": [],
   "source": [
    "df.to_csv('./data/out_xgb.csv', index=False)"
   ]
  },
  {
   "cell_type": "code",
   "execution_count": 55,
   "metadata": {},
   "outputs": [
    {
     "data": {
      "text/plain": [
       "<Figure size 864x432 with 0 Axes>"
      ]
     },
     "metadata": {},
     "output_type": "display_data"
    },
    {
     "data": {
      "image/png": "[encoded data removed]",
      "text/plain": [
       "<Figure size 432x288 with 1 Axes>"
      ]
     },
     "metadata": {
      "needs_background": "light"
     },
     "output_type": "display_data"
    }
   ],
   "source": [
    "\"\"\"绘制特征重要性\"\"\"\n",
    "from xgboost import plot_importance\n",
    "# 显示重要特征，max_num_features 指定显示多少个特征\n",
    "import pickle\n",
    "import matplotlib.pyplot as plt\n",
    "with open('./data/model_xgb_best.pkl','rb') as f:\n",
    "    test_model = pickle.load(f)\n",
    "    plt.figure(figsize=(12, 6))\n",
    "    plot_importance(test_model, max_num_features = 15)\n",
    "    plt.show()\n",
    "    # 保存feature importance\n",
    "    importance =test_model.get_score()\n",
    "    feature_importance = pd.DataFrame({'feature_name':list(importance.keys()),'importance':list(importance.values())} )\n",
    "    feature_importance.to_csv('./data/xgb_feature_importance.csv',index=False)"
   ]
  },
  {
   "cell_type": "code",
   "execution_count": 56,
   "metadata": {},
   "outputs": [
    {
     "data": {
      "image/png": "[encoded data removed]",
      "text/plain": [
       "<Figure size 720x288 with 1 Axes>"
      ]
     },
     "metadata": {
      "needs_background": "light"
     },
     "output_type": "display_data"
    }
   ],
   "source": [
    "fea_i = pd.read_csv('./data/xgb_feature_importance.csv', index_col=0)\n",
    "fea_i.sort_values(by='importance',inplace=True, ascending=False)\n",
    "fea_i[:30].plot(kind=\"bar\",figsize=(10,4))\n",
    "plt.show()"
   ]
  },
  {
   "cell_type": "code",
   "execution_count": null,
   "metadata": {},
   "outputs": [],
   "source": []
  }
 ],
 "metadata": {
  "kernelspec": {
   "display_name": "Python 3",
   "language": "python",
   "name": "python3"
  },
  "language_info": {
   "codemirror_mode": {
    "name": "ipython",
    "version": 3
   },
   "file_extension": ".py",
   "mimetype": "text/x-python",
   "name": "python",
   "nbconvert_exporter": "python",
   "pygments_lexer": "ipython3",
   "version": "3.7.6"
  }
 },
 "nbformat": 4,
 "nbformat_minor": 4
}
